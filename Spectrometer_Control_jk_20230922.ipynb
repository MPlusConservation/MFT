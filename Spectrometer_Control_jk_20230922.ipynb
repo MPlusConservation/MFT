{
 "cells": [
  {
   "cell_type": "markdown",
   "id": "ec7cff0e",
   "metadata": {},
   "source": [
    "# Ocean Optics Spectrometer\n",
    "\n",
    "### This Notebook Shows how to capture a Spectrum with the Ocean Optics Spectrometer"
   ]
  },
  {
   "cell_type": "code",
   "execution_count": 1,
   "id": "d20f296c",
   "metadata": {},
   "outputs": [],
   "source": [
    "import socket\n",
    "import sys\n",
    "import time\n",
    "import numpy as np\n",
    "from seabreeze.spectrometers import Spectrometer\n",
    "from matplotlib import pyplot as plt\n",
    "import pandas as pd"
   ]
  },
  {
   "cell_type": "markdown",
   "id": "85ab28fa",
   "metadata": {},
   "source": [
    "# Find Spectrometer\n",
    "#### This code snipet finds the spectrometer. Only run once\n",
    "\n",
    "#### Make sure to close Ocean view software before running"
   ]
  },
  {
   "cell_type": "code",
   "execution_count": 2,
   "id": "2728300b",
   "metadata": {},
   "outputs": [
    {
     "data": {
      "text/plain": [
       "<Spectrometer USB4000:FLMT08998>"
      ]
     },
     "execution_count": 2,
     "metadata": {},
     "output_type": "execute_result"
    }
   ],
   "source": [
    "# this finds the connected spectrometer\n",
    "spec= Spectrometer.from_first_available()\n",
    "spec"
   ]
  },
  {
   "cell_type": "code",
   "execution_count": 3,
   "id": "c14c03cd",
   "metadata": {},
   "outputs": [],
   "source": [
    "# check integration time\n",
    "spec.integration_time_micros(10000)"
   ]
  },
  {
   "cell_type": "markdown",
   "id": "bf34a2f0",
   "metadata": {},
   "source": [
    "# Run Spectrometer"
   ]
  },
  {
   "cell_type": "code",
   "execution_count": 4,
   "id": "91fe1554",
   "metadata": {},
   "outputs": [
    {
     "name": "stdout",
     "output_type": "stream",
     "text": [
      "[ 345.547824    345.7652642   345.98269179 ... 1040.00006121 1040.15971991\n",
      " 1040.31935952]\n"
     ]
    }
   ],
   "source": [
    "wav = spec.wavelengths()\n",
    "print (wav)"
   ]
  },
  {
   "cell_type": "code",
   "execution_count": 5,
   "id": "3254907e",
   "metadata": {},
   "outputs": [],
   "source": [
    "#collect white balance\n",
    "wb = spec.intensities()"
   ]
  },
  {
   "cell_type": "code",
   "execution_count": 6,
   "id": "071c437e",
   "metadata": {},
   "outputs": [
    {
     "data": {
      "text/plain": [
       "[<matplotlib.lines.Line2D at 0x1ecce793fd0>]"
      ]
     },
     "execution_count": 6,
     "metadata": {},
     "output_type": "execute_result"
    },
    {
     "data": {
      "image/png": "[encoded data removed]",
      "text/plain": [
       "<Figure size 432x288 with 1 Axes>"
      ]
     },
     "metadata": {
      "needs_background": "light"
     },
     "output_type": "display_data"
    }
   ],
   "source": [
    "# check white balance spectrum\n",
    "plt.plot(wav,wb)"
   ]
  },
  {
   "cell_type": "code",
   "execution_count": 7,
   "id": "57f80c40",
   "metadata": {},
   "outputs": [
    {
     "name": "stdout",
     "output_type": "stream",
     "text": [
      "[3020.90563657 3067.05569085 3022.8285555  ... 3142.04952906 3063.209853\n",
      " 3063.209853  ]\n"
     ]
    }
   ],
   "source": [
    "# collect specimen\n",
    "inten = spec.intensities()\n",
    "print (inten)"
   ]
  },
  {
   "cell_type": "code",
   "execution_count": 8,
   "id": "94e7c44d",
   "metadata": {},
   "outputs": [],
   "source": [
    "# test loop\n",
    "r = []\n",
    "\n",
    "# (second) of the whole testing time\n",
    "# average over the 20 times we measure\n",
    "\n",
    "for i in range(300):\n",
    "    sig= []\n",
    "    for j in range(20):\n",
    "        inten = spec.intensities()\n",
    "        sig.append(inten)\n",
    "    avg = np.average(sig, axis=0)    \n",
    "    r.append(avg)\n",
    "    time.sleep(1)\n",
    "    \n",
    "    "
   ]
  },
  {
   "cell_type": "code",
   "execution_count": 9,
   "id": "81f8a79a",
   "metadata": {},
   "outputs": [
    {
     "data": {
      "text/plain": [
       "(300, 3648)"
      ]
     },
     "execution_count": 9,
     "metadata": {},
     "output_type": "execute_result"
    }
   ],
   "source": [
    "np.shape(r)\n"
   ]
  },
  {
   "cell_type": "code",
   "execution_count": 10,
   "id": "2139ef77",
   "metadata": {
    "scrolled": true
   },
   "outputs": [
    {
     "data": {
      "text/plain": [
       "[<matplotlib.lines.Line2D at 0x1eccff13160>]"
      ]
     },
     "execution_count": 10,
     "metadata": {},
     "output_type": "execute_result"
    },
    {
     "data": {
      "image/png": "[encoded data removed]",
      "text/plain": [
       "<Figure size 432x288 with 1 Axes>"
      ]
     },
     "metadata": {
      "needs_background": "light"
     },
     "output_type": "display_data"
    }
   ],
   "source": [
    "plt.plot(wav,r[0])\n"
   ]
  },
  {
   "cell_type": "code",
   "execution_count": 11,
   "id": "9f1add09",
   "metadata": {
    "scrolled": true
   },
   "outputs": [],
   "source": [
    "#normalized reflectance\n",
    "ns = np.divide(r[0],wb)\n"
   ]
  },
  {
   "cell_type": "code",
   "execution_count": 12,
   "id": "1844b4d4",
   "metadata": {},
   "outputs": [
    {
     "name": "stdout",
     "output_type": "stream",
     "text": [
      "[1.0229072  1.01523157 0.98805031 ... 0.96878049 0.9742831  0.9742831 ]\n"
     ]
    }
   ],
   "source": [
    "print(ns)"
   ]
  },
  {
   "cell_type": "code",
   "execution_count": 13,
   "id": "d601bf79",
   "metadata": {},
   "outputs": [],
   "source": [
    "df={\"wav\":wav,\"ns\":ns}\n",
    "df=pd.DataFrame(df)\n",
    "df.to_csv('C:\\\\Users\\\\MFT\\\\Desktop\\\\MFT_jenny\\\\20230721.csv',index=False)"
   ]
  },
  {
   "cell_type": "code",
   "execution_count": 14,
   "id": "539992e7",
   "metadata": {
    "scrolled": false
   },
   "outputs": [
    {
     "data": {
      "text/plain": [
       "(450.0, 700.0)"
      ]
     },
     "execution_count": 14,
     "metadata": {},
     "output_type": "execute_result"
    },
    {
     "data": {
      "image/png": "[encoded data removed]",
      "text/plain": [
       "<Figure size 432x288 with 1 Axes>"
      ]
     },
     "metadata": {
      "needs_background": "light"
     },
     "output_type": "display_data"
    }
   ],
   "source": [
    "plt.plot(wav,ns)\n",
    "plt.xlim(450,700)"
   ]
  },
  {
   "cell_type": "code",
   "execution_count": 19,
   "id": "9f01325a",
   "metadata": {
    "scrolled": true
   },
   "outputs": [
    {
     "data": {
      "text/plain": [
       "(400.0, 1000.0)"
      ]
     },
     "execution_count": 19,
     "metadata": {},
     "output_type": "execute_result"
    },
    {
     "data": {
      "image/png": "[encoded data removed]",
      "text/plain": [
       "<Figure size 432x288 with 1 Axes>"
      ]
     },
     "metadata": {
      "needs_background": "light"
     },
     "output_type": "display_data"
    }
   ],
   "source": [
    "plt.plot(wav,r[0],wav,r[299])\n",
    "plt.xlim(400,1000)"
   ]
  },
  {
   "cell_type": "code",
   "execution_count": 32,
   "id": "ffd2c42a",
   "metadata": {},
   "outputs": [
    {
     "data": {
      "text/plain": [
       "(400.0, 1000.0)"
      ]
     },
     "execution_count": 32,
     "metadata": {},
     "output_type": "execute_result"
    },
    {
     "data": {
      "image/png": "[encoded data removed]",
      "text/plain": [
       "<Figure size 432x288 with 1 Axes>"
      ]
     },
     "metadata": {
      "needs_background": "light"
     },
     "output_type": "display_data"
    }
   ],
   "source": [
    "plt.plot(r[0]/wb, r[299]/wb)\n",
    "plt.xlim(400,1000)"
   ]
  },
  {
   "cell_type": "code",
   "execution_count": 16,
   "id": "3985952b",
   "metadata": {},
   "outputs": [],
   "source": [
    "for i in range(80):\n",
    "    if i == 0:\n",
    "        inten = spec.intensities()\n",
    "        ns = np.divide(inten,wb)\n",
    "    else:\n",
    "        inten = spec.intensities()\n",
    "        ns2 = np.divide(inten,wb)\n",
    "        ns = (ns2+ns)/(i+1)\n",
    "\n",
    "\n",
    "    \n",
    "\n",
    "    "
   ]
  },
  {
   "cell_type": "code",
   "execution_count": 10,
   "id": "63c1de04",
   "metadata": {
    "scrolled": true
   },
   "outputs": [],
   "source": [
    "np.savetxt('C:\\\\Users\\\\MFT\\Desktop\\\\spectra\\\\JiangSiShiChang_Carmine_mockups_11Nov2022\\\\Carmine_1_I.txt', inten, delimiter=',')"
   ]
  },
  {
   "cell_type": "code",
   "execution_count": 11,
   "id": "7cfe845c",
   "metadata": {},
   "outputs": [],
   "source": [
    "np.savetxt('C:\\\\Users\\\\MFT\\Desktop\\\\spectra\\\\JiangSiShiChang_Carmine_mockups_11Nov2022\\\\Carmine_1_wav.txt', wav, delimiter=',')"
   ]
  },
  {
   "cell_type": "code",
   "execution_count": null,
   "id": "5cd33f24",
   "metadata": {},
   "outputs": [],
   "source": []
  }
 ],
 "metadata": {
  "kernelspec": {
   "display_name": "Python 3 (ipykernel)",
   "language": "python",
   "name": "python3"
  },
  "language_info": {
   "codemirror_mode": {
    "name": "ipython",
    "version": 3
   },
   "file_extension": ".py",
   "mimetype": "text/x-python",
   "name": "python",
   "nbconvert_exporter": "python",
   "pygments_lexer": "ipython3",
   "version": "3.9.12"
  }
 },
 "nbformat": 4,
 "nbformat_minor": 5
}
